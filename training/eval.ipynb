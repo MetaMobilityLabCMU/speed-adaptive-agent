{
 "cells": [
  {
   "cell_type": "code",
   "execution_count": null,
   "id": "f9f8fde5-7d8e-4a2d-8cea-71419c785a92",
   "metadata": {},
   "outputs": [],
   "source": [
    "%env MUJOCO_GL=egl\n",
    "import pickle\n",
    "import loco_mujoco\n",
    "from loco_mujoco import LocoEnv\n",
    "import numpy as np\n",
    "from dm_control.mujoco import Physics\n",
    "from utils import process_data, interpolate_data, eval_model, calculate_metrics\n",
    "from speed_env_wrapper import SpeedWrapper\n",
    "from scipy.signal import find_peaks\n",
    "import os\n",
    "\n",
    "library_path = os.path.dirname(loco_mujoco.__file__)\n",
    "file_path = os.path.join(library_path, 'environments', 'data', 'humanoid', 'humanoid_torque.xml')\n",
    "physics = Physics.from_xml_path(file_path)\n",
    "mass = np.sum(physics.named.model.body_mass._field)\n",
    "speed_range = np.round(np.linspace(0.65, 1.85, 13), 2)\n",
    "mdp = LocoEnv.make(\"HumanoidTorque.walk\", headless=True)\n",
    "mdp = SpeedWrapper(mdp, (speed_range[0], speed_range[-1]))\n",
    "_ = mdp.reset()"
   ]
  },
  {
   "cell_type": "markdown",
   "id": "00a9df88-54ec-440e-bce6-7010a20d73a9",
   "metadata": {},
   "source": [
    "## Load synthetic data as ground truth"
   ]
  },
  {
   "cell_type": "code",
   "execution_count": null,
   "id": "b45b44f2-a467-4ec9-8418-c4f7403ae888",
   "metadata": {},
   "outputs": [],
   "source": [
    "with open('../data/locomujoco_13_speeds_dataset_unformatted.pkl', 'rb') as f:\n",
    "    synthetic_data = pickle.load(f)\n",
    "    \n",
    "min_peak_synthetic_data = {}\n",
    "\n",
    "for speed in synthetic_data:\n",
    "    min_peak_synthetic_data[speed] = {}\n",
    "\n",
    "    concat_data = {}\n",
    "    for joint in ['q_hip_flexion_r', 'q_knee_angle_r', 'q_ankle_angle_r']:\n",
    "        concat_data[joint] = np.concatenate(synthetic_data[speed][joint])\n",
    "    \n",
    "    hip_data = np.concatenate(synthetic_data[speed]['q_hip_flexion_r'])\n",
    "    heel_strikes, _ = find_peaks(-1*hip_data, height=np.deg2rad(8), distance=40)\n",
    "    cycle_lengths = np.diff(heel_strikes)\n",
    "    \n",
    "    for joint in ['q_hip_flexion_r', 'q_knee_angle_r', 'q_ankle_angle_r']:\n",
    "        min_peak_synthetic_data[speed][joint] = []   \n",
    "        for i, cycle_length in enumerate(cycle_lengths):\n",
    "            if cycle_length > 40:\n",
    "                min_peak_synthetic_data[speed][joint].append(concat_data[joint][heel_strikes[i]:heel_strikes[i+1]])\n",
    "                \n",
    "interpolated_data = interpolate_data(min_peak_synthetic_data, 114)   "
   ]
  },
  {
   "cell_type": "markdown",
   "id": "396c3a33-d866-460e-8209-26050a536519",
   "metadata": {},
   "source": [
    "## Specify model path"
   ]
  },
  {
   "cell_type": "code",
   "execution_count": null,
   "id": "a9118702-96ce-4929-87a3-1280572c5031",
   "metadata": {},
   "outputs": [],
   "source": [
    "model_path = 'path/to/your/model'"
   ]
  },
  {
   "cell_type": "markdown",
   "id": "2ed1f672-a408-4b4c-90b4-2c6e483d5818",
   "metadata": {},
   "source": [
    "## Model inference and calculate RMSE and R2"
   ]
  },
  {
   "cell_type": "code",
   "execution_count": null,
   "id": "5ee082b9-62b6-41ef-bade-72e3ba69dc34",
   "metadata": {},
   "outputs": [],
   "source": [
    "results = eval_model(mdp, model_path, speed_range, mass, n_trials=5, n_episodes=3, cycle_length_cutoff=60, record=False)"
   ]
  },
  {
   "cell_type": "code",
   "execution_count": null,
   "id": "b170bfbf-a3ec-435a-908a-2d8fe8f70e23",
   "metadata": {},
   "outputs": [],
   "source": [
    "processed_results = {}\n",
    "metric = calculate_metrics(results, interpolated_data)\n",
    "speed_RMSEs, speed_R2s, bio_RMSEs, bio_R2s = [], [], [], []\n",
    "for trial in metric:\n",
    "    actual_speeds = [metric[trial][speed]['actual_speed'] for speed in metric[trial]]\n",
    "    target_speeds = list(metric[trial].keys())\n",
    "    \n",
    "    speed_RMSEs.append(root_mean_squared_error(target_speeds, actual_speeds))\n",
    "    speed_R2s.append(r2_score(target_speeds, actual_speeds))\n",
    "    bio_RMSEs.append(np.mean([metric[trial][speed]['RMSE'] for speed in metric[trial]]))\n",
    "    bio_R2s.append(np.mean([metric[trial][speed]['R2'] for speed in metric[trial]]))\n",
    "    \n",
    "processed_results['speed_RMSE'] = speed_RMSEs\n",
    "processed_results['speed_R2'] = speed_R2s\n",
    "processed_results['bio_RMSE'] = bio_RMSEs\n",
    "processed_results['bio_R2'] = bio_R2s"
   ]
  },
  {
   "cell_type": "code",
   "execution_count": null,
   "id": "fe64067a-3ec0-4f73-b2a6-f60ae0ee8231",
   "metadata": {},
   "outputs": [],
   "source": [
    "bio_RMSE_avg = np.mean(processed_results['bio_RMSE'])\n",
    "bio_RMSE_std = np.std(processed_results['bio_RMSE'])\n",
    "bio_R2_avg = np.mean(processed_results['bio_R2'])\n",
    "bio_R2_std = np.std(processed_results['bio_R2'])\n",
    "\n",
    "speed_RMSE_avg = np.mean(processed_results['speed_RMSE'])\n",
    "speed_RMSE_std = np.std(processed_results['speed_RMSE'])\n",
    "speed_R2_avg = np.mean(processed_results['speed_R2'])\n",
    "speed_R2_std = np.std(processed_results['speed_R2'])"
   ]
  },
  {
   "cell_type": "code",
   "execution_count": null,
   "id": "cfbc217f-37df-4b81-b580-d884ea022796",
   "metadata": {},
   "outputs": [],
   "source": [
    "print(f'bio RMSE avg {bio_RMSE_avg}')\n",
    "print(f'bio RMSE std {bio_RMSE_std}')\n",
    "print(f'bio R2 avg {bio_R2_avg}')\n",
    "print(f'bio R2 std {bio_R2_std}')\n",
    "\n",
    "print(f'speed RMSE avg {speed_RMSE_avg}')\n",
    "print(f'speed RMSE std {speed_RMSE_std}')\n",
    "print(f'speed R2 avg {speed_R2_avg}')\n",
    "print(f'speed R2 std {speed_R2_std}')"
   ]
  },
  {
   "cell_type": "code",
   "execution_count": null,
   "id": "c37f3e6c-05cb-4128-a312-16c5ef58c9b6",
   "metadata": {},
   "outputs": [],
   "source": []
  }
 ],
 "metadata": {
  "kernelspec": {
   "display_name": "Python 3 (ipykernel)",
   "language": "python",
   "name": "python3"
  },
  "language_info": {
   "codemirror_mode": {
    "name": "ipython",
    "version": 3
   },
   "file_extension": ".py",
   "mimetype": "text/x-python",
   "name": "python",
   "nbconvert_exporter": "python",
   "pygments_lexer": "ipython3",
   "version": "3.10.14"
  }
 },
 "nbformat": 4,
 "nbformat_minor": 5
}
