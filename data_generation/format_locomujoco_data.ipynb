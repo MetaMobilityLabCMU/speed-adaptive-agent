{
 "cells": [
  {
   "cell_type": "code",
   "execution_count": 1,
   "id": "86cc16e2-fb14-45cf-a21d-8a49ec8f6d35",
   "metadata": {},
   "outputs": [
    {
     "name": "stdout",
     "output_type": "stream",
     "text": [
      "env: MUJOCO_GL=egl\n"
     ]
    }
   ],
   "source": [
    "%env MUJOCO_GL=egl\n",
    "import pandas as pd\n",
    "import numpy as np\n",
    "from collections import Counter\n",
    "import matplotlib.pyplot as plt\n",
    "import matplotlib as mpl\n",
    "from scipy.interpolate import CubicSpline, PchipInterpolator\n",
    "import os\n",
    "import copy\n",
    "import pickle \n",
    "from loco_mujoco import LocoEnv\n",
    "from mushroom_rl.utils.record import VideoRecorder\n",
    "from tqdm.notebook import tqdm\n",
    "import mujoco"
   ]
  },
  {
   "cell_type": "code",
   "execution_count": 3,
   "id": "73a13183-1e1b-454d-b8e7-555785389829",
   "metadata": {},
   "outputs": [],
   "source": [
    "# with open('locomujoco_transformed_data.pkl', 'rb') as f:\n",
    "with open('locomujoco_transformed_data_55_speeds_0025_increment.pkl', 'rb') as f:\n",
    "    data = pickle.load(f)"
   ]
  },
  {
   "cell_type": "code",
   "execution_count": 4,
   "id": "3b1c5eb3-8a0b-483c-adf0-782ca5c056ac",
   "metadata": {},
   "outputs": [],
   "source": [
    "dt = 0.01"
   ]
  },
  {
   "cell_type": "code",
   "execution_count": 5,
   "id": "7b0399ba-f1a7-42b0-ae95-d17d80971bbc",
   "metadata": {},
   "outputs": [
    {
     "name": "stderr",
     "output_type": "stream",
     "text": [
      "100%|██████████████████████████████| 55/55 [00:00<00:00, 63.26it/s]\n"
     ]
    }
   ],
   "source": [
    "simulation_data = {}\n",
    "for speed in tqdm(data):\n",
    "    simulation_data[speed] = {}\n",
    "    for joint in data[speed]:\n",
    "        concat_data = np.concatenate(data[speed][joint])\n",
    "        if joint not in ['q_pelvis_tx', 'q_pelvis_tz', 'q_pelvis_ty']:\n",
    "            concat_data = np.deg2rad(concat_data)\n",
    "        if 'knee' in joint:\n",
    "            concat_data = -1*concat_data\n",
    "        \n",
    "        simulation_data[speed][joint] = concat_data   \n",
    "        simulation_data[speed]['d'+joint] = np.gradient(concat_data, dt)   "
   ]
  },
  {
   "cell_type": "code",
   "execution_count": 7,
   "id": "974c5dad-2c21-4827-83c9-4bfed51edda0",
   "metadata": {},
   "outputs": [],
   "source": [
    "ignore_keys = [\"q_pelvis_tx\", \"q_pelvis_tz\"]"
   ]
  },
  {
   "cell_type": "code",
   "execution_count": 8,
   "id": "41ed208c-ca69-4e05-8e76-08666a81e3d1",
   "metadata": {},
   "outputs": [
    {
     "name": "stdout",
     "output_type": "stream",
     "text": [
      "['q_pelvis_tx', 'q_pelvis_tz', 'q_pelvis_ty', 'q_pelvis_tilt', 'q_pelvis_list', 'q_pelvis_rotation', 'q_hip_flexion_r', 'q_hip_adduction_r', 'q_hip_rotation_r', 'q_knee_angle_r', 'q_ankle_angle_r', 'q_hip_flexion_l', 'q_hip_adduction_l', 'q_hip_rotation_l', 'q_knee_angle_l', 'q_ankle_angle_l', 'q_lumbar_extension', 'q_lumbar_bending', 'q_lumbar_rotation', 'dq_pelvis_tx', 'dq_pelvis_tz', 'dq_pelvis_ty', 'dq_pelvis_tilt', 'dq_pelvis_list', 'dq_pelvis_rotation', 'dq_hip_flexion_r', 'dq_hip_adduction_r', 'dq_hip_rotation_r', 'dq_knee_angle_r', 'dq_ankle_angle_r', 'dq_hip_flexion_l', 'dq_hip_adduction_l', 'dq_hip_rotation_l', 'dq_knee_angle_l', 'dq_ankle_angle_l', 'dq_lumbar_extension', 'dq_lumbar_bending', 'dq_lumbar_rotation']\n"
     ]
    }
   ],
   "source": [
    "joints = [joint[0] for joint in mdp.obs_helper.observation_spec]\n",
    "print(joints)"
   ]
  },
  {
   "cell_type": "code",
   "execution_count": 10,
   "id": "b8262497-57ab-4a83-87f4-520067bba0bb",
   "metadata": {},
   "outputs": [],
   "source": [
    "training_data = {}\n",
    "for speed in simulation_data:\n",
    "    training_data[speed] = {}\n",
    "    all_states = np.stack([simulation_data[speed][joint] for joint in joints if joint not in ignore_keys]).T\n",
    "    training_data[speed]['states'] = all_states[:-1, :]\n",
    "    training_data[speed]['next_states'] = all_states[1:, :]\n",
    "    training_data[speed]['absorbing'] = np.zeros(89799)\n",
    "    training_data[speed]['last'] = np.concatenate([np.zeros(89799), np.ones(1)])"
   ]
  },
  {
   "cell_type": "code",
   "execution_count": 11,
   "id": "49454d0d-0266-478e-9e8e-35a6e945f4ec",
   "metadata": {},
   "outputs": [],
   "source": [
    "with open('locomujoco_speeds_dataset_55_speeds_0025_increment.pkl', 'wb') as f:\n",
    "    pickle.dump(training_data, f)"
   ]
  },
  {
   "cell_type": "code",
   "execution_count": 12,
   "id": "1a5cd8cb-def2-4b82-b9d8-e32601aca938",
   "metadata": {},
   "outputs": [
    {
     "data": {
      "text/plain": [
       "dict_keys([0.5, 0.525, 0.55, 0.575, 0.6, 0.625, 0.65, 0.675, 0.7, 0.725, 0.75, 0.775, 0.8, 0.825, 0.85, 0.875, 0.9, 0.925, 0.95, 0.975, 1.0, 1.025, 1.05, 1.075, 1.1, 1.125, 1.15, 1.175, 1.2, 1.225, 1.25, 1.275, 1.3, 1.325, 1.35, 1.375, 1.4, 1.425, 1.45, 1.475, 1.5, 1.525, 1.55, 1.575, 1.6, 1.625, 1.65, 1.675, 1.7, 1.725, 1.75, 1.775, 1.8, 1.825, 1.85])"
      ]
     },
     "execution_count": 12,
     "metadata": {},
     "output_type": "execute_result"
    }
   ],
   "source": [
    "training_data.keys()"
   ]
  },
  {
   "cell_type": "code",
   "execution_count": null,
   "id": "cb8f35be-b716-4e39-aada-f7608b8e199f",
   "metadata": {},
   "outputs": [],
   "source": []
  }
 ],
 "metadata": {
  "kernelspec": {
   "display_name": "Python 3 (ipykernel)",
   "language": "python",
   "name": "python3"
  },
  "language_info": {
   "codemirror_mode": {
    "name": "ipython",
    "version": 3
   },
   "file_extension": ".py",
   "mimetype": "text/x-python",
   "name": "python",
   "nbconvert_exporter": "python",
   "pygments_lexer": "ipython3",
   "version": "3.10.14"
  }
 },
 "nbformat": 4,
 "nbformat_minor": 5
}
